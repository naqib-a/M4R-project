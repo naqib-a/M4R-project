{
 "cells": [
  {
   "cell_type": "markdown",
   "metadata": {
    "collapsed": true
   },
   "source": [
    "# Deterministic modelling\n",
    "\n",
    "\n",
    "### Translating of the problem into ODE language\n",
    "\n",
    "If we assume that:\n",
    "1. the number of molecules of the ith species in V at time t can be represented by a continuous, single-valued function X_i(t) (i= 1,...,N),\n",
    "2. each of the M chemical reactions can be regarded as a continuous rate process, \n",
    "\n",
    "then we can construct a set of coupled, first-order, ordinary differential equations of the form\n",
    "\n",
    "<img src=\"ode1.png\" style=\"width: 500px;\"/>\n",
    "\n",
    "The specific forms of the functions f_i are determined by the structures and rate constants of the M chemical reaction channels, and are called the *reaction-rate equations*. Solving them for the X_i(t), subject to the prescribed initial conditions, is tantamount to solving the time-evolution problem posed earlier. Reliably solving reaction-rate equations on a computer is simple and can be learned from the tutorial on \"deterministic models of biochemical reactions\"."
   ]
  }
 ],
 "metadata": {
  "kernelspec": {
   "display_name": "Python 2",
   "language": "python",
   "name": "python2"
  },
  "language_info": {
   "codemirror_mode": {
    "name": "ipython",
    "version": 2
   },
   "file_extension": ".py",
   "mimetype": "text/x-python",
   "name": "python",
   "nbconvert_exporter": "python",
   "pygments_lexer": "ipython2",
   "version": "2.7.11"
  }
 },
 "nbformat": 4,
 "nbformat_minor": 0
}
