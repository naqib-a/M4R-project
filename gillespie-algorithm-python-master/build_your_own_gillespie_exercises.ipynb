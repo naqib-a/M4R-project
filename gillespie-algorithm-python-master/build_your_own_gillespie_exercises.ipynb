{
 "cells": [
  {
   "cell_type": "markdown",
   "metadata": {},
   "source": [
    "# Build your own Gillespie algorithm \n",
    "\n",
    "\n",
    "In this tutorial you will learn in detail about the ~~deterministic~~ *stochastic* formalism for the *temporal* modelling of *simple*\\* chemical systems, and you will learn to write the *Gillespie algorithm*, from scratch, using Python 2.7.\n",
    "\n",
    "\\* the word *simple* referst to \"spatially homogenous\" (i.e. spatially uniform mixture of chemical species, as opposed to spatially varied, where you could find regions with higher concentrations of some molecules but not others).\n",
    "\n",
    "As you can already imagine, there are many Gillespie algorithm scripts out there, available for you to download freely and use for your simulations. (In particular modifications of the Gillespie algorithm such as the reaction method (Gibson & Bruck) and the tau-leaping are very efficient.) We think it is advantageous in many ways to understand how this formalism is constructed. It will help you, for example, decide in what contexts this framework is more appropiate, and understand the reasons why you might get different results with the deterministic and stochastic approaches.\n",
    "\n",
    "\n",
    "### To note\n",
    "\n",
    "If you would like to learn in detail about the *deterministic* framework for modelling the temporal evolution of simple chemical systems, we refer you to [this](https://github.com/karinsasaki/biomath-modelling-with-python) tutorial.\n",
    "\n",
    "The tutorial you currently hold deals only with modelling the evolution of a chemical system, in *time*. If you would like to learn to desing a *spatial* model and simulate it, we refer you to [this (coming soon)]() tutorial.\n",
    "\n",
    "\n",
    "### Structure of tutorial\n",
    "\n",
    "In **Part 1** we introduce and characterise the stochastic framework as a mathematical model of simple systems of chemical reactions.\n",
    "\n",
    "In **Part 2** we set the problem that needs to be solved, in precise mathematical formulation.\n",
    "\n",
    "In **Part 3** we provide steps to help you build your own Gillespie agorithm.\n",
    "\n",
    "\n",
    "### References\n",
    "\n",
    "The tutorial is heavily based on Gillespie's original 1977 [paper](http://wwwf.imperial.ac.uk/~nsjones/gillespie_1977.pdf) and we will often  quote text directly from the paper. \n",
    "\n",
    "The Wikipedia [page](https://en.wikipedia.org/wiki/Mathematical_model) on Mathematical Models.\n",
    "\n",
    "\n",
    "### Acknowledgements\n",
    "\n",
    "This tutorial was make by Dr. Karin Sasaki (Centre for Biological Modelling at the European Molecular Biology Laboratory)."
   ]
  },
  {
   "cell_type": "markdown",
   "metadata": {},
   "source": [
    "## Part 1. Characterisation of stochastic mathematical models of the time behaviour of  spatially homogenous chemical systems.\n",
    "\n",
    "### The *stochastic approach* or framework:\n",
    "\n",
    "1.  The time evolution is regarded as a kind of random-walk process. (A *deterministic model*, in contrast, regards the time evolution as a continuous, wholly predictable process.)\n",
    "2. The time evolution of the system is governed by differential-difference equations called “master equations” or is computationally calculated exactly by the Gillespie algorithm. (In a *deterministic model*, the time evolution of the system is governed by a set of coupled, ordinary differential equations called the “reaction-rate equations”.)\n",
    "\n",
    "\n",
    "### Reasoning behind the stochastic framework\n",
    "\n",
    "1. The time evolution of a chemically reacting system is not a continuous process, because molecular population levels obviously can change only by discrete integer amounts. \n",
    "2. The time evolution is not a deterministic process, for, the molecular motions are regarded to be governed by the equations of classical mechanics, it is impossible to predict the exact molecular population levels at some future time, unless we take account of the precise positions and velocities of all the molecules in the system. In other words, although the temporal behavior of a chemically reacting system of classical molecules is a deterministic process in the full position-momentum phase space of the system, it is not a deterministic process in the N-dimensional subspace of the species population numbers.\n",
    "\n",
    "\n",
    "### Classification of stochastic models as mathematical models\n",
    "\n",
    "* **The stochastic model is linear (not nonlinear)** - because chemical reactions exihibit linear relationships between the reactants. For example, an enzymatic reaction \n",
    "    \n",
    "    S + E <-> SE -> E + P\n",
    "    \n",
    "is broken down into\n",
    "\n",
    "    S + E -> SE\n",
    "    SE -> S + E\n",
    "    SE -> E + P\n",
    "    \n",
    "which all have linear relations between the reactants and products. Note that a linear model does not necessarily predic non-linear expressions.\n",
    "\n",
    "* **Stochastic models are dynamic (not static i.e. time-invariant)** -  because they accounts for time-dependent changes in the state of the system. (A *static model* calculates the system in equillibrium. An example is Flux Balance Analysis of metabolic models using linear programming).\n",
    "\n",
    "* **Stochastic models are explicit** -  all of the input parameters of the overall model are known, and the output parameters can be calculated by a finite series of computations \n",
    "\n",
    "* **Stochastic models are not always discrete** - a discrete model is one where objects are treated as discrete entities. (A *continuous model* represents the objects in a continuous manner, for example, chemical reactions can be regarded as a continuous rate processes). Chemical master equations do not need to be discrete, as they describe probabilites; in simple cases it might be even possible to solve them without simulation algorithms e.g to calculate probabilities of system states as function of times. Discrete event simulations, such as the Gillespie algorithm, represent just one way (most useful practically) to solve chemical master equations. \n",
    "\n",
    "* **Stochastic models are probabilistic and not deterministic** - randomness is included in the model in order to capture inherent fluctuations in the molecular population levels. Therefore variable states are described by probability distributions and these models can perform differently for the same set of initial conditions. (A deterministic model is one where the variable states are uniquely determined by parameters in the model and by sets of previous states of these variables. Therefore, a deterministic model always performs the same way for a given set of initial conditions.)"
   ]
  },
  {
   "cell_type": "markdown",
   "metadata": {
    "collapsed": true
   },
   "source": [
    "# Part 2. Setting the problem and translating it into mathematical formalism\n",
    "\n",
    "### The problem we want to solve\n",
    "\n",
    "The system:\n",
    "\n",
    "M chemical reactions `R1, ... ,RM` that involve `N` chemical species `S1, ..., SN`.  \n",
    "\n",
    "The question:\n",
    "\n",
    "Given `X1, ..., XN` number of particles for each of the species, at some initial time, what will these molecular population levels be at a later time?\n",
    "\n",
    "\n",
    "### Modelling the system stochastically - Translating of the problem into stochastic language \n",
    "\n",
    "#### Assumptions of the stochastic framework\n",
    "\n",
    "1. A fixed volume `V` \n",
    "2. `V` contains a spatially uniform mixture of `N` chemical species\n",
    "3. The chemical species are in thermal (but not necessarily chemical) equilibrium, which means that collisions occur in an essentially random manner.\n",
    "3. A chemical reaction occurs whenever two or more molecules of \"appropriate kinds\" (defined by the reaction equations) collide in an \"appropriate way\" (assuming that the two molecules `S1` and `S2` are hard spheres of radii `rl` and `r2`, a collision will occur between them whenever the center-to-center distance between the two molecules decreases to `r12= r1 + r2`). \n",
    "4. All collisions are reactive, i.e. they result in chemical alterations of the colliding molecules as defined by the reaction equations.\n",
    "\n",
    "\n",
    "#### A simple chemical system modelled stochastically is characterised by a \"collision/reaction probability per unit time\" (i.e. it is a stochastic Markov process) and not by a \"collision rate\" (i.e. a deterministic rate process)\n",
    "\n",
    "**Side note:** A stochastic Markov process is one that satisfies the so called *Markov property*, which says that the conditional probability distribution of future states of a process depends only upon the present state, not on the sequence of events that preceded it. \n",
    "\n",
    "Suppose we have two molecules `S1` and `S2`. Whilst we cannot rigorously calculate *the number of collisions* between `S1` and `S2`, occurring in `V` in any infinitesimal time interval, we can rigorously calculate *the probability of a collision* occurring between `S1` and `S2`, in `V` in any infinitesimal time interval:\n",
    "\n",
    "#### Calculating the propensity of each reaction (the collision/reaction probability per unit time)\n",
    "\n",
    "Let's begin with an **example**. Suppose the `S1` and `S2` molecules in `V` can undergo the reaction\n",
    "\n",
    "```\n",
    "R1: S1 + S2 -> 2S1\n",
    "```\n",
    "\n",
    "Then we may assert the existence of a constant `cl`, which depends only on the physical properties of the two molecules and the temperature of the system, such that `c1*dt` is *the average probability that a particular `S1-S2` molecular pair will react according to `R1` in the next infinitesimal time interval `dt`*.\n",
    "\n",
    "This implies that, if at time `t` there are `X1` of the `S1` molecules and `X2` of the `S2` molecules, making a total of `h1 = Xl*X2` distinct `S1-S2` pairs. Let `a1=h1*c1` then `a1*dt` is *the probability that an `R1` reaction will occur somewhere inside `V` in the next infinitesimal time interval `(t, t + dt)`*.\n",
    "\n",
    "<img src=\"diag.png\" style=\"width: 400px;\"/>\n",
    "\n",
    "Let us take another example. Consider the reverse of the reaction of `R1`:\n",
    "\n",
    "```\n",
    "R2: 2S1 -> S1 + S2\n",
    "```\n",
    "\n",
    "Then we would characterize this reaction by a constant `c2`, such that `c2*dt` is the average probability that a particular pair of `S1` molecules will react according to `R2` in the next `dt`. However, the number of distinct pairs of `S1` molecules in `V` is not `X1*X1` but `h2 = X1*(X1-1)/2!`. . Let `a2=h2*c2`. Hence, the probability that an `R2` reaction will occur somewhere inside `V` in the next time interval `dt` is `a2*dt`. \n",
    "\n",
    "Now, for the **general form**, suppose the volume `V` contains a mixture of `Xj` molecules of chemical species `Sj (j = 1, ..., N)` and suppose further that these `N` species can interreact through `M` specified chemical reaction channels `Ri (i = 1, ..., M)`. Then we may assert the existence of `M` constants `ci (i =  1, ..., M)`, which depend only on the physical properties of the molecules and the temperature of the system, such that `ci*dt` is the *the average probability that a particular combination of `Ri` reactant molecules will react accordingly in the next infinitesimal time interval dt*. \n",
    "\n",
    "Let `hi` be the total number of distinct combinations of `R_i` reactant molecules in `V` at time `t` (a simple algebraic expression calculated using the binomial coefficient of the stoichiometry of the reactants). Then, if we multiply `ci*dt` by `hi`, we will obtain the probability `ai*dt` (where `ai=hi*ci`) that an `Ri` reaction will occur somewhere inside `V` in the next infinitesimal time interval `(t, t + dt)`.\n",
    "\n",
    "**In summary**:\n",
    "- *the propensity of a reaction* `Ri (i = 1, ..., M)` is governed solely by the fundamental hypothesis that, for  constants `ci`, which depends only on the physical properties of the reactants of `Ri`, `ci*dt` is *the average probability that the particular combination of `Ri` reactant molecules will react in the next infinitesimal time interval dt*. \n",
    "- furthermore, the probability of reaction `Ri` happening in the next time interval `(t, t + dt)` is calculated as the product `hi` of the total number of distinct combinations of `Ri` reactant molecules and `ci*dt`, i.e. `ai*dt` for `ai=hi*ci`.\n",
    "\n",
    "Note: `ci` is called the **stochastic rate constant**.\n",
    "\n",
    "-> (AH) Very important practical point. Here or later you should provide a way to convert  between stochastic (ci) and deterministic (ci) rate constants. And illustrate it with examples.\n",
    "Show how to make these calculations for 0, 1st, 2nd and higher order reactions.\n",
    "Because in literature deterministic rate constants are normally shown. So one would need it to run stochastic simulations with given deterministic rates and to compare stoshastic simulations to ODE solutions. If needed, you can check our paper (Halavatyi, A.A., Nazarov, P.V., Medves, S., van Troys, M., Ampe, C., Yatskou, M., and Friederich, E. (2009). An integrative simulation model linking major biochemical reactions of actin-polymerization to structural properties of actin filaments. Biophys Chem 140, 24-34.)\n",
    "\n",
    "#### Calculating the time evolution of the system (that is modelled stochastically)\n",
    "\n",
    "Let us consider how to sample the time evolution of this system in a way that follows the probability density function of the Chemical Master Equation. Remember that the system is a Markov process, so it is enough to base the argument on the current state of the system. \n",
    "\n",
    "If we are given that the system is in the state `(X1,...,XN)` at time `t`,  essentially all we need in order to “move the system forward in time” is to answer these two questions: \n",
    "\n",
    "1. when will the next reaction occur, and \n",
    "2. what kind of reaction will it be \n",
    "\n",
    "\n",
    "(**Side note on probability disctributions and sampling or drawing from them:** Suppose we have a data generating process, for example, the throwing of a dice. So long as the dice is fair, we know that we will only get numbers 1-6 and that each number has the same probablility as the others. This describes the probability distribution. Now, to draw or sample from the distribution means to throw the dice and record the outcome; we know the outcome has a specific probability, but we can not predict what the outcome will be. Eventually, after you have sampled enough, you can calculate numbers such as the mean (or expected value), the varialce, the quatiles and use these numbers to characterise the distribution. In this case, it is easy to see that the dice follows a uniform distribution.\n",
    "\n",
    "We can have a similar example with the heights of the people in the room, try it!)\n",
    "\n",
    "One way to obtain the next time `T` and reaction `mu`, could be to draw two random numbers `r1` and `r2` from the uniform distribution and to use them to calculate the next time and reaction with the following formulas:\n",
    "\n",
    "<img src=\"c2.png\" style=\"width: 180px;\"/>\n",
    "\n",
    "<img src=\"a0.png\" style=\"width: 350px;\"/>\n",
    "\n",
    "<img src=\"a.png\" style=\"width: 100px;\"/>\n",
    "\n",
    "(Note that this relies on the propensities of the reactions that we calculated just above; in other words, the next reaction and time are influenced by the propencities of the reactions, but this make sense, since a reaction with a higher propensity should have a higher probabilty of happening than one with a lower propensity.)\n",
    "\n",
    "It is shown in Gillespie's paper that choosing the next time and reaction in this way, samples directly from the *probability density function* that is the Chemical Master Equation. (Note that this probability density function is a joint probability density function (also knows as a probability measure) of the continuous variable T (0<= T < inf), for the time of the next reaction, and the discrete variable (mu = 1, 2,. ..,M).)\n",
    "\n",
    "So, in practice, according to the calculations we have made above, of the reation propensities and the next time and reaction, to simulate a stochastic model of any simple chemical system you can just follow this algorithm (the Gillespie algorithm) below:\n",
    "\n",
    "<img src=\"b.png\" style=\"height: 400px;\"/>\n",
    "\n",
    "and you already have all the tools you need to calculate each step."
   ]
  },
  {
   "cell_type": "markdown",
   "metadata": {},
   "source": [
    "## Part 3. The stochastic simulation algorithm\n",
    "\n",
    "Now that we have the algorithm, we can program it into python so that we can then use it to simulate any simple chemical system. The rest of the tutorial is a collection of small exercises that together lead you to program your own Gillespie algorithm. The instuctions are given in human/maths language and you need to find the appropiate python commands to achieve those steps. Don't worry, we give you hint and you can always refer to the documentation.\n",
    "\n",
    "\n",
    "### Part 3.A. Let's go through one loop of the algorithm, each step (sort of) by hand\n",
    "\n",
    "We will use the following example system:\n",
    "\n",
    "```\n",
    "R1: S1 + S2 -> 2S1\n",
    "```\n",
    "\n",
    "For each of the steps, follow the instructions and hints and if necessary, check the python documentation."
   ]
  },
  {
   "cell_type": "markdown",
   "metadata": {},
   "source": [
    "**Import the required libraries and modules**"
   ]
  },
  {
   "cell_type": "code",
   "metadata": {
    "collapsed": true,
    "ExecuteTime": {
     "end_time": "2024-11-14T14:25:01.367766Z",
     "start_time": "2024-11-14T14:25:01.363049Z"
    }
   },
   "source": [
    "# import modules and libraries: numpy, factorial from scipy.special, pyplot from matplotlib\n",
    "# allow inline plot with %matplotlib inline\n",
    "import numpy as np\n",
    "from docutils.nodes import legend\n",
    "from scipy.special import factorial\n",
    "import matplotlib.pyplot as plt\n",
    "%matplotlib inline "
   ],
   "outputs": [],
   "execution_count": 914
  },
  {
   "cell_type": "markdown",
   "metadata": {},
   "source": [
    "**Step 0 - Initialization:** \n",
    "- Input the desired values for the `M` reaction constants `c1,. ..,cM` and the `N` initial molecular population numbers `X1,...,XN`. \n",
    "- Set the time variable `t` and the reaction counter `n` both to zero. "
   ]
  },
  {
   "cell_type": "code",
   "metadata": {
    "collapsed": false,
    "ExecuteTime": {
     "end_time": "2024-11-14T14:25:01.417749Z",
     "start_time": "2024-11-14T14:25:01.414420Z"
    }
   },
   "source": [
    "# reaction constants, c1\n",
    "c1 = 0.5\n",
    "print(\"c1: \", c1)\n",
    "\n",
    "# initial molecular population numbers X1 of S1 and X2 of S2, \n",
    "X1 = 10000\n",
    "X2 = 1000\n",
    "print(\"X1: \", X1)\n",
    "print(\"X2: \", X2)\n",
    "\n",
    "# initialise time variable t and reaction counter n\n",
    "t = 0\n",
    "n = 0\n",
    "print(\"t: \", t)\n",
    "print(\"n: \", n)"
   ],
   "outputs": [
    {
     "name": "stdout",
     "output_type": "stream",
     "text": [
      "c1:  0.5\n",
      "X1:  10000\n",
      "X2:  1000\n",
      "t:  0\n",
      "n:  0\n"
     ]
    }
   ],
   "execution_count": 915
  },
  {
   "cell_type": "markdown",
   "metadata": {},
   "source": [
    "**Step 1 - calculate the ai and a0: ** \n",
    "- Calculate and store the `M` quantities `a1 = h1*c1,..., aM = hm*cm` for the current molecular population numbers. \n",
    "- To fasciliate the manipulation with python, save all the `ai`'s in an array `a`.\n",
    "- Calculate and store as `a_0` the sum of the `M` `a_i` values."
   ]
  },
  {
   "cell_type": "code",
   "metadata": {
    "collapsed": false,
    "ExecuteTime": {
     "end_time": "2024-11-14T14:25:01.427779Z",
     "start_time": "2024-11-14T14:25:01.423883Z"
    }
   },
   "source": [
    "# calculate a1 = h1*c1 where h1 is the total number of all possible \n",
    "# combinations of pairs S1 and S2\n",
    "# go back to the section where the propensities of the reactions were calculated to remind yourself \n",
    "a1 = c1 * (X1 * X2)\n",
    "# define an (numpy) array a with entries each ai\n",
    "a = np.array([a1])\n",
    "# define a0 as the sum of all ai's\n",
    "a0 = np.sum(a)\n",
    "\n",
    "# debug\n",
    "print(\"a1: \", a1)\n",
    "print(\"a: \", a)\n",
    "print(\"a0: \", a0)"
   ],
   "outputs": [
    {
     "name": "stdout",
     "output_type": "stream",
     "text": [
      "a1:  5000000.0\n",
      "a:  [5000000.]\n",
      "a0:  5000000.0\n"
     ]
    }
   ],
   "execution_count": 916
  },
  {
   "cell_type": "markdown",
   "metadata": {},
   "source": [
    "**Step 2 - Get the next reaction and time of reaction: ** \n",
    "\n",
    "- Generate the pair `(T, mu)` from the set of random pairs whose probability density function is the Chemical Master Equation.\n",
    "- When calculating the next reaction, you need a while loop.\n",
    "- Recall that numbering in Python starts from 0, so be careful with indexing!"
   ]
  },
  {
   "cell_type": "code",
   "metadata": {
    "collapsed": false,
    "ExecuteTime": {
     "end_time": "2024-11-14T14:25:01.451939Z",
     "start_time": "2024-11-14T14:25:01.447715Z"
    }
   },
   "source": [
    "# generate random numbers r1 and r2 from the normal distribution, using np.random.random\n",
    "r1, r2 = np.random.random(size=2)\n",
    "print(\"r1: \", r1)\n",
    "print(\"r2: \", r2)\n",
    "\n",
    "# find the increment T in time as (1/a0)*ln(1/r1)\n",
    "T = (1 / a0) * np.log(1 / r1)\n",
    "print(\"T: \", T)\n",
    "\n",
    "# choose next reaction\n",
    "# initialise mu to 0\n",
    "\n",
    "# define new variable N = r2*a0 - a[mu]\n",
    "\n",
    "# while N is positive\n",
    "\n",
    "# add 1 to mu\n",
    "\n",
    "# substract a_mu from N\n",
    "\n",
    "# when the while lopp breaks, allocate the current value of mu to the next reaction variable next_r\n",
    "mu = 0\n",
    "N = r2 * a0 - a[mu]\n",
    "while N > 0:\n",
    "    mu += 1\n",
    "    N -= a[mu]\n",
    "next_r = mu\n",
    "print(\"next_r: \", next_r)"
   ],
   "outputs": [
    {
     "name": "stdout",
     "output_type": "stream",
     "text": [
      "r1:  0.4832662475143855\n",
      "r2:  0.14674678037147826\n",
      "T:  1.454375080230187e-07\n",
      "next_r:  0\n"
     ]
    }
   ],
   "execution_count": 917
  },
  {
   "cell_type": "markdown",
   "metadata": {},
   "source": [
    "Does it make sense what the next reaction is?\n",
    "\n",
    "What happens if you run the code again? Does the same reaction get chosen? Does this make sense?\n",
    "\n",
    "Make sure that you understand how this while loop achieves the purpose of choosing the next reaction, correctly according to the theory given above, in section \"Calculating the time evolution of the system\"."
   ]
  },
  {
   "cell_type": "markdown",
   "metadata": {},
   "source": [
    "**Step 3 - update the system: ** \n",
    "\n",
    "Using the `T` and `mu` values obtained in step 2, increase `t` by `T`, and adjust the molecular population levels to reflect the occurrence of one `R_i` reaction; e.g., if `R_i` is the reaction `R1`, then increase `X1` by `1` and decrease `X2` by `1`. Then increase the reaction counter `n` by `1`.\n",
    "\n",
    "(Note: for complicated networks with many reagents and reactions, it is enough to recalculate only those quantities `a_i` corresponding to reactions `R_i` whose reactant population levels were just altered in step 3; also, `a_0` may be recalculated simply by adding to `a_0` the difference between each newly changed `a_i` value and its corresponding old value. However, for simple networks such as this example, checking what changes and what not might take more time then recalculate all quantities a_i.)"
   ]
  },
  {
   "cell_type": "code",
   "metadata": {
    "collapsed": false,
    "ExecuteTime": {
     "end_time": "2024-11-14T14:25:01.477603Z",
     "start_time": "2024-11-14T14:25:01.473982Z"
    }
   },
   "source": [
    "# define the time of next reaction\n",
    "t += T\n",
    "print(\"t: \", t)\n",
    "\n",
    "# add one to the number of reactions count n\n",
    "n += 1\n",
    "print(\"n: \", n)\n",
    "\n",
    "# update the system according to the reaction that was chosen\n",
    "X1 += 1\n",
    "X2 -= 1\n",
    "print(\"X1: \", X1)\n",
    "print(\"X2: \", X2)"
   ],
   "outputs": [
    {
     "name": "stdout",
     "output_type": "stream",
     "text": [
      "t:  1.454375080230187e-07\n",
      "n:  1\n",
      "X1:  10001\n",
      "X2:  999\n"
     ]
    }
   ],
   "execution_count": 918
  },
  {
   "cell_type": "markdown",
   "metadata": {},
   "source": [
    "We have simulated the stochastic occurance of one reaction. We can visualise the effect of this reaction by plotting the time vs the concentration of the reactants as follows:"
   ]
  },
  {
   "cell_type": "code",
   "metadata": {
    "collapsed": false,
    "ExecuteTime": {
     "end_time": "2024-11-14T14:25:01.500004Z",
     "start_time": "2024-11-14T14:25:01.496340Z"
    }
   },
   "source": [
    "# create arrays containing all data\n",
    "\n",
    "# array with initial number of X1 and number after one reaction\n",
    "XV1 = [X1 - 1, X1]\n",
    "# array with initial number of X2 and number after one reaction\n",
    "XV2 = [X2 + 1, X1]\n",
    "# array with initial time and time of reaction one\n",
    "TV = [t - T, t]\n",
    "# create plot using pyplot, remeber to add a legend and annotate the axes"
   ],
   "outputs": [],
   "execution_count": 919
  },
  {
   "cell_type": "markdown",
   "metadata": {},
   "source": [
    "Return to 1 and repeat."
   ]
  },
  {
   "cell_type": "markdown",
   "metadata": {},
   "source": [
    "### Part 3.B. - Automate the process\n",
    "\n",
    "So now, we need to do the same process many many times, to simulate the system to a maximum time (`tmax`) or maximum number of reactions (`nmax`) of our choice. \n",
    "\n",
    "It is not feasible to carry on typing the same commands every time we need to go through the loop until we reach either `tmax` or `nmax` and we need to implement an automated way of **looping** through the algorithm.\n",
    "\n",
    "So what should we use? You've guessed it - a while loop, because with a while loop we can test whether the `tmax` or `nmax` bounds have been reached and *while* they have not, we go through yet another loop of the algorithm.\n",
    "\n",
    "Additionally, to be able to visualise the output of every loop, we will also want to provide an automated way of storing the changing values of the reactants, rather than doing it by hand as we did above.\n",
    "\n",
    "Finally, it is always a good practice to implement a debugging strategy. We recommend defining a *pause* function that will ask the user (of the program) to press the `<ENTER>` key to continue and to print values that will help the user keep track of the algorithm.\n",
    "\n",
    "To implement these new changes, let's use a new biochemical system, that has more than one reaction. It is important that this system has more than one reaction because if you can write a program general enough to deal with more than one reaction, then there should be no problem with a system with more reactions. Let's use the following system:\n",
    "```\n",
    "R1: 2X1 + X2 -> X3\n",
    "R2: X1 -> 0\n",
    "```\n",
    "\n",
    "(**Note on how to represent this system of chemical equations in matrix form:** \n",
    "We can write any system on chemical equations in matrix form. First we choose a convention, for example, the rows of the matrix correspond to the reactions and the columns to the reactants. Next, we read off the effect that the reactions have on each of the reactants, for example, R1 consumes 2 (molecules) of X1 and 1 of X2 and produces 1 of X3. Finally, we recod these numbers i correcsponding matrix entries.\n",
    "\n",
    "For the example above, the array form for the system above would be:\n",
    "\n",
    "```\n",
    "    X1 X2 X3\n",
    "R1  -2 -1  1\n",
    "R2  -1  0  0\n",
    "```\n",
    "\n",
    "You can also choose to write the stoichiometry of the substrates and producs, which which case you only take into account how the substrates/products are affected. So for example, the substrate stoichiometry array of the system above would be:\n",
    "\n",
    "```\n",
    "    X1 X2 X3\n",
    "R1  -2 -1  0\n",
    "R2  -1  0  0\n",
    "```\n",
    "\n",
    "Can yu write the one for the products?)"
   ]
  },
  {
   "cell_type": "markdown",
   "metadata": {},
   "source": [
    "#### Import required libraries"
   ]
  },
  {
   "cell_type": "code",
   "metadata": {
    "collapsed": true,
    "ExecuteTime": {
     "end_time": "2024-11-14T14:25:01.520195Z",
     "start_time": "2024-11-14T14:25:01.517738Z"
    }
   },
   "source": [
    "# import required libraries and modules: numpy, factorial from scipy.special, pyplot \n",
    "# enable inline plotting"
   ],
   "outputs": [],
   "execution_count": 920
  },
  {
   "cell_type": "markdown",
   "metadata": {},
   "source": [
    "#### Define debug function"
   ]
  },
  {
   "cell_type": "code",
   "metadata": {
    "collapsed": false,
    "ExecuteTime": {
     "end_time": "2024-11-14T14:25:01.539129Z",
     "start_time": "2024-11-14T14:25:01.536851Z"
    }
   },
   "source": [
    "# define a pause function for debugging\n",
    "\n",
    "#def ...\n",
    "\n",
    "# using the command raw_input, define a variable that prints out a message along the lines of \n",
    "# \"Press the <ENTER> key to continue...\" and take as input nothing.\n"
   ],
   "outputs": [],
   "execution_count": 921
  },
  {
   "cell_type": "markdown",
   "metadata": {},
   "source": [
    "#### Step 0 of algorithm"
   ]
  },
  {
   "cell_type": "code",
   "metadata": {
    "collapsed": false,
    "ExecuteTime": {
     "end_time": "2024-11-14T14:25:01.560512Z",
     "start_time": "2024-11-14T14:25:01.556335Z"
    }
   },
   "source": [
    "# ****************************   \n",
    "# step 0: input rate values, initial contidions values and initialise time \n",
    "# and reactions counter\n",
    "# ****************************   \n",
    "\n",
    "# Define the stoichiometry of the system as a numpy array, with the number of reactions in the rows \n",
    "# and the number of reactants in the columns. \n",
    "\n",
    "# Define the stochiometry of the substrates and products separatelly; Use the variable names \n",
    "# stoch_subst for the substrates and stoch_prods for the products\n",
    "stoch_subst = np.array([[-2, -1, 0], [-1, 0, 0]])\n",
    "stoch_prods = np.array([[0, 0, 1], [0, 0, 0]])\n",
    "# Using these define the stoch variable as the summ of stoch_subst and stoch_prods\n",
    "stoch = stoch_subst + stoch_prods\n",
    "# Keep track of the following: \n",
    "# (i ranges 0 -> M-1, where M is the number of reactions, j ranges 0 -> N-1, where N is the \n",
    "# number of species)\n",
    "M = 0\n",
    "N = 0\n",
    "# allocate the number of reactions to variable num_rxn and number of species to varialbe num_spec,\n",
    "# use the command shape of numpy and array indexing\n",
    "num_rxn = 2\n",
    "num_spec = 3\n",
    "# define the ci parameters in an array variable called rates\n",
    "rates = [2, 1]\n",
    "# define the initial conditions of the reactants in an array variable init\n",
    "init = np.array([100, 100, 100])\n",
    "# specify the maximum time, tmax, and maximum number of reactions, nrmax\n",
    "tmax = 100\n",
    "nrmax = 1000\n",
    "# Initialise the current_species variable to init\n",
    "current_species = init\n",
    "# Initialise the current time current_t and the time and reaction counters t_count \n",
    "# and react_count to 0\n",
    "current_t = 0\n",
    "t_count = 0\n",
    "react_count = 0\n",
    "# debug: print all the variables to check everything is correct"
   ],
   "outputs": [],
   "execution_count": 922
  },
  {
   "cell_type": "code",
   "metadata": {
    "collapsed": false,
    "scrolled": true,
    "ExecuteTime": {
     "end_time": "2024-11-14T14:25:01.581823Z",
     "start_time": "2024-11-14T14:25:01.577947Z"
    }
   },
   "source": [
    "# Initialise variables to store time and molecule numbers\n",
    "\n",
    "# You need the arrays to be large enough to contain all the possible number of iterations the \n",
    "# algorithm goes through (which we don't know, a priori, how many iterations that will be). \n",
    "# Call this cariable largenum\n",
    "largenum = max(tmax, nrmax) * 1000\n",
    "# Initialise a zeros array called store_t to store all the times of reactions (with dimensions largenum,1)\n",
    "store_t = np.zeros(shape=largenum)\n",
    "# Initialise a zeros array called store_mols to store all reactants after each reaction \n",
    "# (with dimensions largenum,num_spec)\n",
    "store_mols = np.zeros(shape=(largenum, num_spec))\n",
    "# Initialise a zeros array called store_r to store all the reaction ids (with dimensions largenum,1)\n",
    "store_r = np.zeros(shape=largenum)\n",
    "# debug by printing all the variables and check for correct numbers"
   ],
   "outputs": [],
   "execution_count": 923
  },
  {
   "cell_type": "code",
   "metadata": {
    "collapsed": false,
    "ExecuteTime": {
     "end_time": "2024-11-14T14:25:01.603495Z",
     "start_time": "2024-11-14T14:25:01.601022Z"
    }
   },
   "source": [
    "# store current time and state\n",
    "\n",
    "# store current time of the system by indexing store_t with t_count (why?) and equating that entry it \n",
    "# to current_t\n",
    "store_t[t_count] = current_t\n",
    "# store current numbers of molecules of each species by indexing store_mols with [t_count,:] (why?) and \n",
    "# equating that row it to current_species\n",
    "store_mols[t_count] = current_species\n",
    "# debug by printing 10 rows of the two arrays above and checking for correct recording of data\n"
   ],
   "outputs": [],
   "execution_count": 924
  },
  {
   "cell_type": "markdown",
   "metadata": {},
   "source": [
    "#### Define a function to automate the choosing of the next time and reaction and check it works correctly"
   ]
  },
  {
   "cell_type": "code",
   "metadata": {
    "collapsed": false,
    "ExecuteTime": {
     "end_time": "2024-11-14T14:25:01.713482Z",
     "start_time": "2024-11-14T14:25:01.623213Z"
    }
   },
   "source": [
    "# define a function to choose the next time and reaction\n",
    "\n",
    "# define function with name choose_t_r and inputs a0 and a\n",
    "def choose_t_r(a0, a):\n",
    "    # generate random numbers r1 and r2 from the uniform distribution\n",
    "    r2, r2 = np.random.uniform(size=2)\n",
    "    # choose the increment T in time as (1/a0)*ln(1/r1)\n",
    "    T = (1 / a0) * np.log(1 / r1)\n",
    "    # choose the next reaction \n",
    "\n",
    "    # initialise S to sum(a)\n",
    "    s = sum(a)\n",
    "    # initialise mu to 0\n",
    "    mu = 0\n",
    "    # initialise to N= r2*a0 - a[mu]\n",
    "    N = r2 * a0 - a[mu]\n",
    "    # while loop:\n",
    "    while N > 0:\n",
    "        mu += 1\n",
    "        N -= a[mu]\n",
    "    next_r = mu\n",
    "    return T, next_r\n",
    "    # while N is positive\n",
    "\n",
    "    # add one to mu\n",
    "\n",
    "    # substract a[mu] from N\n",
    "\n",
    "    # when the while loop breaks, allocate the current value of mu to next_r\n",
    "\n",
    "    # return T and next_r\n",
    "\n",
    "\n",
    "# To debug choose_t_r write a function that runs choose_t_r 1000 times:\n",
    "\n",
    "# define function run_choose_t_r_many_times with input a, the array of ai's\n",
    "def run_choose_t_r_many_times(a):\n",
    "    # define a0 as the sum of a\n",
    "    a0 = sum(a)\n",
    "    # define a zeros array r with dimensions 1000,1, to store the outputs of each time choose_t_r is run\n",
    "    r = np.zeros(shape=1000)\n",
    "    # define a for loop with index i that ranges from 0-999\n",
    "    for i in range(1000):\n",
    "        T, res = choose_t_r(a0, a)\n",
    "        r[i] = res\n",
    "    plt.hist(r)\n",
    "    plt.show()\n",
    "\n",
    "\n",
    "a = np.array([9000 * 0.001, 10 * 1])\n",
    "run_choose_t_r_many_times(a)\n",
    "# define a variable res that is the output of choose_t_r\n",
    "\n",
    "# store the choice of reaction, res, in r\n",
    "\n",
    "# plot a histogram of all the reactions chosen, using pyplot hist\n",
    "\n",
    "# make sure that the bins are centred at the integer values that correspond \n",
    "# to the reactions by defining an array bins with the bounds of each bin\n",
    "\n",
    "\n",
    "# Ask youself what you expect the histogram to look like, given the current parameter values:\n",
    "# Run function run_choose_t_r_many_times with different values of a:\n",
    "# By changing the values of a you can check that different reactions a re being chosen \n",
    "# representatively with the system.\n",
    "# For example, for a = np.array([9000*0.0001, 10*1]), i.e. the rate for reaction R1 \n",
    "# is 0.0001 and for reaction R2 is 1, the proportions of choosing reaction R1 or R2 \n",
    "# should be similar, around 1:1, but for a = np.array([9000*0.01, 10*1]) R1 should \n",
    "# be chosen many more times than R2, in fact, on a ratio of around 10:1."
   ],
   "outputs": [
    {
     "data": {
      "text/plain": [
       "<Figure size 640x480 with 1 Axes>"
      ],
      "image/png": "[encoded data removed]"
     },
     "metadata": {},
     "output_type": "display_data"
    }
   ],
   "execution_count": 925
  },
  {
   "cell_type": "markdown",
   "metadata": {},
   "source": [
    "#### Automate the calculation of the propensitites of the reactions"
   ]
  },
  {
   "cell_type": "markdown",
   "metadata": {},
   "source": [
    "Think about how exactly to calculate the algebraic statement that equals `ai = hi*ci`.\n",
    "\n",
    "It is helpful to write down many examples in order to come up with a formula.\n",
    "\n",
    "Let's think through this particular example together:\n",
    "\n",
    "We have the substrate stoichiometry being\n",
    "\n",
    "```\n",
    " -2 -1 0\n",
    " -1  0 0\n",
    "```\n",
    "\n",
    "suppose we want to work out `hi` for `R1`. Let's start with `X1`. We know that the algebraic expression is `X1(X1-1)`. Notice that this is the same as the binomial coefficient `binom(X1,2)` multiplied by `2!`. (If you don't remember what the binomial coefficient is and how to calculate it, you can refer to the subsection below this explanation.)\n",
    "\n",
    "Now suppose that the substrate stoichiometry is\n",
    "\n",
    "```\n",
    " -3 -1 0\n",
    " -1  0 0\n",
    "```\n",
    "\n",
    "to calculate the algebraic expression for `X1`, we know it is `X1*(X1-1)*(X1-2)`, which equals `binom(X1,3)*3!`.\n",
    "\n",
    "We star to see a pattern here, can you write it down explicitly in Python language? The answer is below, but we encourage you to work it out for yourself. You will need the `binomial` and `factorial` functions. Also, be careful with the signs and remember that you can use the `absolute` function.\n",
    "\n",
    ".\n",
    "\n",
    ".\n",
    "\n",
    ".\n",
    "\n",
    ".\n",
    "\n",
    ".\n",
    "\n",
    ".\n",
    "\n",
    ".\n",
    "\n",
    ".\n",
    "\n",
    "If you did the hand calculations, you saw that to calculate `hi` you need the following formula:\n",
    "\n",
    "```\n",
    "hi = hi*binom(current_species[j],np.absolute(stoch_subst[i,j]))*factorial(np.absolute(stoch_subst[i,j]))\n",
    "```\n",
    "\n",
    "Unfortunatelly, python does not seem to have a binomial coefficient function, so we define it here (perhaps it is fortunate, it gives us a chance to practice writting a new function! Make sure you understand it). (If you know of an already existing function, let us know!)\n",
    "\n",
    "\n",
    "(**Side note on the binomial coefficient:** The binomial coefficient, say 4choose2 is the number of ways two objects can be chosen from four objects. For example if I have four letters, A, B, C and D, I can choose:\n",
    "```\n",
    "AB\n",
    "AC\n",
    "AD\n",
    "BC\n",
    "BD\n",
    "CB\n",
    "```\n",
    "and if you stare at this list for a while, you will convince yourself these are all the possible distinct ways of choosing 2 letters out of those 4. So the binomial coefficient 4choose2 = 6.\n",
    "\n",
    "In general, you do not write all the possibilities down. You use a formula: NchooseK = N!/K!(N-K)! where the factorial, say 5! means that you multiply all the integers from 5 down to 1 together, to get `5*4*3*2*1 = 120`.\n",
    "\n",
    "If you want to check various binomial coefficients, you can go to [WolframAlpha](http://www.wolframalpha.com/) and use binom[n,m] to make the calculations.)"
   ]
  },
  {
   "cell_type": "code",
   "metadata": {
    "collapsed": false,
    "ExecuteTime": {
     "end_time": "2024-11-14T14:25:01.737661Z",
     "start_time": "2024-11-14T14:25:01.733604Z"
    }
   },
   "source": [
    "# define a function to calculate the binomial coefficient\n",
    "def binom(n, m):\n",
    "    b = [0] * (n + 1)\n",
    "    b[0] = 1\n",
    "    for i in range(1, n + 1):\n",
    "        b[i] = 1\n",
    "        j = i - 1\n",
    "        while j > 0:\n",
    "            b[j] += b[j - 1]\n",
    "            j -= 1\n",
    "    return b[m]\n",
    "\n",
    "# debug - test binom"
   ],
   "outputs": [],
   "execution_count": 926
  },
  {
   "cell_type": "markdown",
   "metadata": {},
   "source": [
    "#### Write the main loop of the algorithm - Steps 1, 2 and 3"
   ]
  },
  {
   "cell_type": "code",
   "metadata": {
    "collapsed": false,
    "scrolled": true,
    "ExecuteTime": {
     "end_time": "2024-11-14T14:25:01.796659Z",
     "start_time": "2024-11-14T14:25:01.757093Z"
    }
   },
   "source": [
    "# Now we write the main loop. Remember it is important to print values and using \n",
    "# the pause function to help yourself to debug the program.\n",
    "\n",
    "# while loop  current_t < tmax \n",
    "\n",
    "# ****************************   \n",
    "# step 1: calculate ai and a0\n",
    "# ****************************\n",
    "while current_t < tmax:\n",
    "\n",
    "    # \"step 1: calculate ai and a0\"\n",
    "\n",
    "    # initialise variable a to a ones array of dimensions num_rxn,1\n",
    "    a = np.ones(shape=num_rxn)\n",
    "\n",
    "    # (recall i ranges 1 -> M, where M is the number of reactions, j ranges 1 -> N, \n",
    "    # where N is the number of species)\n",
    "\n",
    "    # make a for loop with index i that ranges from 0 to num_rxns\n",
    "    for i in range(num_rxn):\n",
    "        hi = 1\n",
    "        for j in range(num_spec):\n",
    "            if stoch_subst[i, j] == 0:\n",
    "                continue\n",
    "            if current_species[j] < np.absolute(stoch_subst[i, j]):\n",
    "                hi = 0\n",
    "                break\n",
    "            hi = hi * binom(current_species[j], np.absolute(stoch_subst[i, j])) * factorial(\n",
    "                np.absolute(stoch_subst[i, j]))\n",
    "        a[i] = rates[i] * hi\n",
    "    a0 = sum(a)\n",
    "    dt, next_r = choose_t_r(a0, a)\n",
    "    current_t += dt\n",
    "    current_species += np.transpose(stoch[next_r, :])\n",
    "    print(current_species, np.transpose(stoch[next_r, :]), a)\n",
    "    t_count += 1\n",
    "    react_count += 1\n",
    "    store_t[t_count] = current_t\n",
    "    store_mols[t_count] = current_species"
   ],
   "outputs": [
    {
     "name": "stdout",
     "output_type": "stream",
     "text": [
      "[ 98  99 101] [-2 -1  1] [1.98e+06 1.00e+02]\n",
      "[ 96  98 102] [-2 -1  1] [1.882188e+06 9.800000e+01]\n",
      "[ 94  97 103] [-2 -1  1] [1.78752e+06 9.60000e+01]\n",
      "[ 92  96 104] [-2 -1  1] [1.695948e+06 9.400000e+01]\n",
      "[ 90  95 105] [-2 -1  1] [1.607424e+06 9.200000e+01]\n",
      "[ 88  94 106] [-2 -1  1] [1.5219e+06 9.0000e+01]\n",
      "[ 86  93 107] [-2 -1  1] [1.439328e+06 8.800000e+01]\n",
      "[ 84  92 108] [-2 -1  1] [1.35966e+06 8.60000e+01]\n",
      "[ 82  91 109] [-2 -1  1] [1.282848e+06 8.400000e+01]\n",
      "[ 80  90 110] [-2 -1  1] [1.208844e+06 8.200000e+01]\n",
      "[ 78  89 111] [-2 -1  1] [1.1376e+06 8.0000e+01]\n",
      "[ 76  88 112] [-2 -1  1] [1.069068e+06 7.800000e+01]\n",
      "[ 74  87 113] [-2 -1  1] [1.0032e+06 7.6000e+01]\n",
      "[ 72  86 114] [-2 -1  1] [9.39948e+05 7.40000e+01]\n",
      "[ 70  85 115] [-2 -1  1] [8.79264e+05 7.20000e+01]\n",
      "[ 68  84 116] [-2 -1  1] [8.211e+05 7.000e+01]\n",
      "[ 66  83 117] [-2 -1  1] [7.65408e+05 6.80000e+01]\n",
      "[ 64  82 118] [-2 -1  1] [7.1214e+05 6.6000e+01]\n",
      "[ 62  81 119] [-2 -1  1] [6.61248e+05 6.40000e+01]\n",
      "[ 60  80 120] [-2 -1  1] [6.12684e+05 6.20000e+01]\n",
      "[ 58  79 121] [-2 -1  1] [5.664e+05 6.000e+01]\n",
      "[ 56  78 122] [-2 -1  1] [5.22348e+05 5.80000e+01]\n",
      "[ 54  77 123] [-2 -1  1] [4.8048e+05 5.6000e+01]\n",
      "[ 52  76 124] [-2 -1  1] [4.40748e+05 5.40000e+01]\n",
      "[ 50  75 125] [-2 -1  1] [4.03104e+05 5.20000e+01]\n",
      "[ 48  74 126] [-2 -1  1] [3.675e+05 5.000e+01]\n",
      "[ 46  73 127] [-2 -1  1] [3.33888e+05 4.80000e+01]\n",
      "[ 44  72 128] [-2 -1  1] [3.0222e+05 4.6000e+01]\n",
      "[ 42  71 129] [-2 -1  1] [2.72448e+05 4.40000e+01]\n",
      "[ 40  70 130] [-2 -1  1] [2.44524e+05 4.20000e+01]\n",
      "[ 38  69 131] [-2 -1  1] [2.184e+05 4.000e+01]\n",
      "[ 36  68 132] [-2 -1  1] [1.94028e+05 3.80000e+01]\n",
      "[ 34  67 133] [-2 -1  1] [1.7136e+05 3.6000e+01]\n",
      "[ 32  66 134] [-2 -1  1] [1.50348e+05 3.40000e+01]\n",
      "[ 30  65 135] [-2 -1  1] [1.30944e+05 3.20000e+01]\n",
      "[ 28  64 136] [-2 -1  1] [1.131e+05 3.000e+01]\n",
      "[ 26  63 137] [-2 -1  1] [9.6768e+04 2.8000e+01]\n",
      "[ 24  62 138] [-2 -1  1] [8.19e+04 2.60e+01]\n",
      "[ 22  61 139] [-2 -1  1] [6.8448e+04 2.4000e+01]\n",
      "[ 20  60 140] [-2 -1  1] [5.6364e+04 2.2000e+01]\n",
      "[ 18  59 141] [-2 -1  1] [4.56e+04 2.00e+01]\n",
      "[ 16  58 142] [-2 -1  1] [3.6108e+04 1.8000e+01]\n",
      "[ 14  57 143] [-2 -1  1] [2.784e+04 1.600e+01]\n",
      "[ 12  56 144] [-2 -1  1] [2.0748e+04 1.4000e+01]\n",
      "[ 10  55 145] [-2 -1  1] [1.4784e+04 1.2000e+01]\n",
      "[  8  54 146] [-2 -1  1] [9900.   10.]\n",
      "[  6  53 147] [-2 -1  1] [6048.    8.]\n",
      "[  4  52 148] [-2 -1  1] [3180.    6.]\n",
      "[  2  51 149] [-2 -1  1] [1248.    4.]\n",
      "[  0  50 150] [-2 -1  1] [204.   2.]\n",
      "[ -2  49 151] [-2 -1  1] [0. 0.]\n"
     ]
    },
    {
     "name": "stderr",
     "output_type": "stream",
     "text": [
      "C:\\Users\\prope\\AppData\\Local\\Temp\\ipykernel_21040\\1975051432.py:8: RuntimeWarning: divide by zero encountered in scalar divide\n",
      "  T = (1 / a0) * np.log(1 / r1)\n"
     ]
    }
   ],
   "execution_count": 927
  },
  {
   "cell_type": "markdown",
   "metadata": {},
   "source": [
    "#### Collect and plot results of simulations"
   ]
  },
  {
   "cell_type": "code",
   "metadata": {
    "collapsed": false,
    "ExecuteTime": {
     "end_time": "2024-11-14T14:25:01.946825Z",
     "start_time": "2024-11-14T14:25:01.817179Z"
    }
   },
   "source": [
    "# Get rid of empty entries in store_t, store_mols and store_r\n",
    "store_t = store_t[:t_count+1]\n",
    "store_mols = store_mols[:t_count+1]\n",
    "print(store_mols)\n",
    "# plot the results of the simulation using pyplot, time on the y-axis and concentrations\n",
    "# on the x-axis, remember to add a legend and to label the axes\n",
    "p1 = plt.plot(store_t, store_mols, label=[\"S1\", \"S2\", \"S3\"])\n",
    "# plt.ylim([0,np.max(store_mols)])\n",
    "plt.legend()\n",
    "# debug: plot a histogram of the reactions chosen by the algorithm (by plotting store_r)"
   ],
   "outputs": [
    {
     "name": "stdout",
     "output_type": "stream",
     "text": [
      "[[100. 100. 100.]\n",
      " [ 98.  99. 101.]\n",
      " [ 96.  98. 102.]\n",
      " [ 94.  97. 103.]\n",
      " [ 92.  96. 104.]\n",
      " [ 90.  95. 105.]\n",
      " [ 88.  94. 106.]\n",
      " [ 86.  93. 107.]\n",
      " [ 84.  92. 108.]\n",
      " [ 82.  91. 109.]\n",
      " [ 80.  90. 110.]\n",
      " [ 78.  89. 111.]\n",
      " [ 76.  88. 112.]\n",
      " [ 74.  87. 113.]\n",
      " [ 72.  86. 114.]\n",
      " [ 70.  85. 115.]\n",
      " [ 68.  84. 116.]\n",
      " [ 66.  83. 117.]\n",
      " [ 64.  82. 118.]\n",
      " [ 62.  81. 119.]\n",
      " [ 60.  80. 120.]\n",
      " [ 58.  79. 121.]\n",
      " [ 56.  78. 122.]\n",
      " [ 54.  77. 123.]\n",
      " [ 52.  76. 124.]\n",
      " [ 50.  75. 125.]\n",
      " [ 48.  74. 126.]\n",
      " [ 46.  73. 127.]\n",
      " [ 44.  72. 128.]\n",
      " [ 42.  71. 129.]\n",
      " [ 40.  70. 130.]\n",
      " [ 38.  69. 131.]\n",
      " [ 36.  68. 132.]\n",
      " [ 34.  67. 133.]\n",
      " [ 32.  66. 134.]\n",
      " [ 30.  65. 135.]\n",
      " [ 28.  64. 136.]\n",
      " [ 26.  63. 137.]\n",
      " [ 24.  62. 138.]\n",
      " [ 22.  61. 139.]\n",
      " [ 20.  60. 140.]\n",
      " [ 18.  59. 141.]\n",
      " [ 16.  58. 142.]\n",
      " [ 14.  57. 143.]\n",
      " [ 12.  56. 144.]\n",
      " [ 10.  55. 145.]\n",
      " [  8.  54. 146.]\n",
      " [  6.  53. 147.]\n",
      " [  4.  52. 148.]\n",
      " [  2.  51. 149.]\n",
      " [  0.  50. 150.]\n",
      " [ -2.  49. 151.]]\n"
     ]
    },
    {
     "data": {
      "text/plain": [
       "<matplotlib.legend.Legend at 0x1eb714b3590>"
      ]
     },
     "execution_count": 928,
     "metadata": {},
     "output_type": "execute_result"
    },
    {
     "data": {
      "text/plain": [
       "<Figure size 640x480 with 1 Axes>"
      ],
      "image/png": "[encoded data removed]"
     },
     "metadata": {},
     "output_type": "display_data"
    }
   ],
   "execution_count": 928
  },
  {
   "cell_type": "markdown",
   "metadata": {},
   "source": [
    "### Part 3.C. Make the algorithm into a function so that you can run it with *any* biochemical system\n",
    "\n",
    "Now, it would be great if we could just call a function that would work for any set of reactions and that we can just run one line of code rather than the whole set up and while loop over and over. We do this below. (Note that you can now get rid of the debugging commands as we have tested every bit and it is all working and we want the program to run smoothly without user input.)\n",
    "\n",
    "#### Program the algorithm as a function"
   ]
  },
  {
   "cell_type": "code",
   "metadata": {
    "collapsed": false,
    "ExecuteTime": {
     "end_time": "2024-11-14T14:25:01.967347Z",
     "start_time": "2024-11-14T14:25:01.963388Z"
    }
   },
   "source": [
    "# ----------------------------\n",
    "# ----------------------------\n",
    "# IMPORT ALL NECESSARY LIBRARIES AND MODULES\n",
    "# ----------------------------\n",
    "# ----------------------------\n",
    "\n",
    "\n",
    "# ----------------------------\n",
    "# ----------------------------\n",
    "# DEFINE OTHER FUNCTIONS NECESSARY\n",
    "# ----------------------------\n",
    "# ----------------------------\n",
    "\n",
    "# define a function to choose the next time and reaction\n",
    "\n",
    "\n",
    "# define a function to calculate the binomial coefficient\n",
    "\n",
    "\n",
    "# ----------------------------\n",
    "# ----------------------------\n",
    "# DEFINE SIMULATION FUNCTION\n",
    "# ----------------------------\n",
    "# ----------------------------\n",
    "\n",
    "# define my_gillespie function with unput values init, rates, stoch_subst, stoch_prods, tmax, nrmax \n",
    "# and output values store_t, store_mols, store_r\n",
    "\n",
    "\n",
    "# --------------------------\n",
    "# set up\n",
    "# --------------------------\n",
    "\n",
    "# ****************************   \n",
    "# step 0: input rate values, initial contidions values and initialise time and reactions counter\n",
    "# ****************************   \n",
    "\n",
    "# define the stoichiometry (variable stoch) of the system as a numpy array as a sum of the substrate and product stoichiometries\n",
    "\n",
    "# initialise num_rxn and num_spec to the correct values\n",
    "\n",
    "# initialise current time and current species variables and the time and reaction counters, current_t, \n",
    "# current_species, t_count, react_count\n",
    "\n",
    "# initialise variables to store time and molecule numbers, largenum, store_t, store_mols, store_r\n",
    "\n",
    "# store current time and state of system in store_t and store_mols\n",
    "\n",
    "\n",
    "# --------------------------\n",
    "# main while loop\n",
    "# --------------------------\n",
    "\n",
    "# ****************************   \n",
    "# step 1: calculate ai and a0\n",
    "# ****************************   \n",
    "\n",
    "# initialise variable a to a ones array of dimensions num_rxn,1\n",
    "\n",
    "# make a for loop with index i that ranges from 0 to num_rxns\n",
    "\n",
    "# initialise hi to 1\n",
    "\n",
    "# make a for loop with index j that ranges from 0 to the number of species (i.e. len(init))\n",
    "\n",
    "# check the reactant (i,j) of the substrate stoichiomety matrix is involved \n",
    "# in this reaction (use an if statement). \n",
    "\n",
    "# if not, continue to the next reactant   \n",
    "\n",
    "# if yes, follow the steps below\n",
    "\n",
    "# check the reactant has molecules available (use an if statement)\n",
    "# if it does not, equate hi to 0 (why?) and go to the next reactant\n",
    "\n",
    "# if it does, calculate hi using the formula you worked out above.\n",
    "# at this stage, for debugging purposes, you might like to include\n",
    "# print statements of various values and using the pause function.\n",
    "\n",
    "# save the current value of ai as hi*ci (i.e. hi*rates[i]) to variable a, at a[i]\n",
    "\n",
    "# save a0 as the sum of all a's\n",
    "\n",
    "# ****************************   \n",
    "# step 2: choose next t and r\n",
    "# ****************************   \n",
    "\n",
    "# run choose_t_r to get the change in time and the next reaction, save them to \n",
    "# variables T and next_r                          \n",
    "\n",
    "# ****************************   \n",
    "# step 3: update and store system\n",
    "# ****************************   \n",
    "\n",
    "# update the system: \n",
    "\n",
    "# update current_t by adding T\n",
    "\n",
    "# update current_species by adding np.transpose(stoch[next_r,:]), why?\n",
    "\n",
    "# update the time counter t_count and reaction counter react_count by adding 1\n",
    "\n",
    "# store current system to store_t[t_count], store_mols[t_count,:], store_r[t_count]\n",
    "\n",
    "\n",
    "# store final output - get rid of empty entries in store_t, store_mols, store_r\n",
    "\n",
    "# return result"
   ],
   "outputs": [],
   "execution_count": 929
  },
  {
   "cell_type": "markdown",
   "metadata": {},
   "source": [
    "#### Run a few simulations with different scenarios"
   ]
  },
  {
   "cell_type": "code",
   "metadata": {
    "collapsed": true,
    "ExecuteTime": {
     "end_time": "2024-11-14T14:25:01.987441Z",
     "start_time": "2024-11-14T14:25:01.984526Z"
    }
   },
   "source": [
    "# ----------------------------\n",
    "# ----------------------------\n",
    "# RUN SIMULATION\n",
    "# R1: X1 + X2 -> 2X1\n",
    "# R2: X1 -> 0\n",
    "# ----------------------------\n",
    "# ----------------------------\n",
    "\n",
    "# ****************************\n",
    "# step A: define rate values, initial contidions values, tmax and nrmax\n",
    "# ****************************\n",
    "\n",
    "# define the stochiometry of the substrates and products separatelly\n",
    "\n",
    "# define the ci parameters (variable rates)\n",
    "\n",
    "# define the initial conditions of the reactants (variable init)\n",
    "\n",
    "# define the maximum time, tmax, and and maximum number of reactions, nrmax\n",
    "\n",
    "# ****************************\n",
    "# step B: run simulation\n",
    "# ****************************\n",
    "\n",
    "# ****************************\n",
    "# step C: plot results of simulation in a graph\n",
    "# ****************************\n",
    "\n"
   ],
   "outputs": [],
   "execution_count": 930
  },
  {
   "cell_type": "code",
   "metadata": {
    "collapsed": false,
    "ExecuteTime": {
     "end_time": "2024-11-14T14:25:02.007477Z",
     "start_time": "2024-11-14T14:25:02.004468Z"
    }
   },
   "source": [
    "# ----------------------------\n",
    "# ----------------------------\n",
    "# RUN ANOTHER SIMULATION\n",
    "# R1: D -> D + R\n",
    "# R2: R -> R + P\n",
    "# R3: R -> 0\n",
    "# R4: P -> 0\n",
    "# ----------------------------\n",
    "# ----------------------------"
   ],
   "outputs": [],
   "execution_count": 931
  },
  {
   "cell_type": "markdown",
   "metadata": {},
   "source": [
    "## Part 4. Next steps\n",
    "\n",
    "### Stochastic vs deterministic\n",
    "\n",
    "Probably the bext thing you can try to do it to compare the results of these stochastic simulations with results you would get when you model the same systems deterministically, with a system of Ordinary Differential Equations (ODEs). This will actually validate our stochastic simulation algorithm.\n",
    "\n",
    "Note that ODE modelling is performed in terms of concentrations and deterministic rate constants; and stochastic calculations are in stochastic constants and molecule numbers. So for the results to be comparable, we need to make conversions properly. Luckily, Gillespie spells this out for us in his paper and if you are interested, you can have a look at page 2343, section IIC. Connection with the Deterministic Reaction-Rate Constant. \n",
    "\n",
    "Recall the stochastic reaction rate constant is `c_i`, which we introduced in Part 2.\n",
    "\n",
    "Let's denote the deterministic rate constant for reaction `R_i` with `k_i`.\n",
    "\n",
    "The conclusion of Gillespie's analysis is that \n",
    "\n",
    "```\n",
    "k_i = (V^(m-1))*c_i\n",
    "```\n",
    "\n",
    "The presence of the factor `V^(m-1)`, where `m` is the number of reactant molecules in reaction `R_i`, is merely a consequence of the fact that the reaction-rate constant is normally used in differential equations that contain molecular concentrations (numbers of molecules per unit volume) rather than total numbers of molecules. For example, if reaction `R_i` had three reactant molecules, we would have `V^2` instead of `V`;if `R_i`had only one reactant molecule (a simple isomerization), the factor `V` would be absent.\n",
    "\n",
    "Furthermore, in general, if `R`, has `n` identical reactant molecules, then `c` will be larger than `k` by a factor of `n!`. So, for example, if we have `R: 2X1 -> X2` then `k=V*c/2`.\n",
    "\n",
    "So let's translate the following system and simulate it deterministically (if you need to learn this topic or prefresh your memory, we refer you to [this](https://github.com/karinsasaki/biomath-modelling-with-python) tutorial):\n",
    "```\n",
    "R1: D -> D + R\n",
    "R2: R -> R + P\n",
    "R3: R -> 0\n",
    "R4: P -> 0\n",
    "```\n",
    "\n",
    "We had defined the stochastic rate constants as follows:\n",
    "\n",
    "```\n",
    "c1 = 0.01\n",
    "c2 = 0.1\n",
    "c3 = 0.0001\n",
    "c4 = 0.0001\n",
    "```\n",
    "\n",
    "Let's assume the volume of the system is 1, then the deterministic rate constants are:\n",
    "\n",
    "```\n",
    "k1 = 0.01\n",
    "k2 = 0.1\n",
    "k2 = 0.0001\n",
    "k2 = 0.0001\n",
    "```\n",
    "\n",
    "The same! Why? because there is only one reactant molecule in each reaction.\n",
    "\n",
    "Now we show how to simulate the system deterministically:"
   ]
  },
  {
   "cell_type": "code",
   "metadata": {
    "collapsed": false,
    "ExecuteTime": {
     "end_time": "2024-11-14T14:25:02.131065Z",
     "start_time": "2024-11-14T14:25:02.023560Z"
    }
   },
   "source": [
    "# import modules and libraries\n",
    "import numpy as np\n",
    "from scipy.integrate import odeint\n",
    "import matplotlib.pyplot as plt\n",
    "%matplotlib inline\n",
    "\n",
    "# Parameters\n",
    "k1 = 0.01\n",
    "k2 = 0.1\n",
    "k3 = 0.0001\n",
    "k4 = 0.0001\n",
    "params = (k1, k2, k3, k4)\n",
    "\n",
    "# Initial conditions\n",
    "D_0 = 1\n",
    "R_0 = 0\n",
    "P_0 = 0\n",
    "ini = (D_0, R_0, P_0)\n",
    "\n",
    "# Time\n",
    "dt = 0.1\n",
    "t = np.arange(0, 50, dt)\n",
    "\n",
    "\n",
    "# ODE system (in format used for odeint)\n",
    "def myODE(init, t, params):\n",
    "    k1, k2, k3, k4 = params\n",
    "\n",
    "    D, R, P = init\n",
    "\n",
    "    # rates\n",
    "    v1 = k1 * D\n",
    "    v2 = k2 * R\n",
    "    v3 = k3 * R\n",
    "    v4 = k4 * P\n",
    "\n",
    "    # equations\n",
    "    dD = 0\n",
    "    dR = v1 + v2 - v3\n",
    "    dP = v2 - v4\n",
    "\n",
    "    return (dD, dR, dP)\n",
    "\n",
    "\n",
    "# Solve using odeint from scipy.integrate\n",
    "solution = odeint(myODE, ini, t, args=(params,))\n",
    "tD = solution[:, 0]\n",
    "tR = solution[:, 1]\n",
    "tP = solution[:, 2]\n",
    "\n",
    "# Show over time\n",
    "fig, ax = plt.subplots()\n",
    "ax.plot(t, tD, label='D')\n",
    "ax.plot(t, tR, label='R')\n",
    "ax.plot(t, tP, label='P')\n",
    "plt.xlabel('time')\n",
    "plt.ylabel('concentration')\n",
    "legend = ax.legend(loc='center left', bbox_to_anchor=(1, 0.5))\n",
    "plt.show()"
   ],
   "outputs": [
    {
     "data": {
      "text/plain": [
       "<Figure size 640x480 with 1 Axes>"
      ],
      "image/png": "[encoded data removed]"
     },
     "metadata": {},
     "output_type": "display_data"
    }
   ],
   "execution_count": 932
  },
  {
   "cell_type": "markdown",
   "metadata": {},
   "source": [
    "### Exercise\n",
    "\n",
    "Demonstrate the effect of sample volume on the simulation results. Keep concentration the same and run simulations for different volumes (each time converting concentrations to molecule numbers). Show that for small volumes stoshastic curves are not completely reproducible and deviate from deterministic solution. For large volumes stochastic and deterministic solutions should be very close.\n"
   ]
  },
  {
   "cell_type": "code",
   "metadata": {
    "collapsed": true,
    "ExecuteTime": {
     "end_time": "2024-11-14T14:25:02.150151Z",
     "start_time": "2024-11-14T14:25:02.147969Z"
    }
   },
   "source": [],
   "outputs": [],
   "execution_count": null
  },
  {
   "cell_type": "code",
   "metadata": {
    "collapsed": true,
    "ExecuteTime": {
     "end_time": "2024-11-14T14:25:02.170046Z",
     "start_time": "2024-11-14T14:25:02.167943Z"
    }
   },
   "source": [],
   "outputs": [],
   "execution_count": null
  },
  {
   "cell_type": "code",
   "metadata": {
    "collapsed": true,
    "ExecuteTime": {
     "end_time": "2024-11-14T14:25:02.190687Z",
     "start_time": "2024-11-14T14:25:02.188768Z"
    }
   },
   "source": [],
   "outputs": [],
   "execution_count": null
  },
  {
   "cell_type": "markdown",
   "metadata": {},
   "source": [
    "\n",
    "## Part 5. The end\n",
    "\n",
    "Next, as we have metioned before, the algorithm that we have written here is not the most computationally speedy and there are modifications of the Gillespie algorithm that are much more efficient. You could have a look at the difference in efficiency with the reaction method (Gibson & Bruck) and the tau-leaping method.\n",
    "\n",
    "\n",
    "This is the end of the tutorial. Good job on finishing it! "
   ]
  }
 ],
 "metadata": {
  "kernelspec": {
   "display_name": "Python 3 (ipykernel)",
   "language": "python",
   "name": "python3"
  },
  "language_info": {
   "codemirror_mode": {
    "name": "ipython",
    "version": 2
   },
   "file_extension": ".py",
   "mimetype": "text/x-python",
   "name": "python",
   "nbconvert_exporter": "python",
   "pygments_lexer": "ipython2",
   "version": "2.7.12"
  }
 },
 "nbformat": 4,
 "nbformat_minor": 0
}
